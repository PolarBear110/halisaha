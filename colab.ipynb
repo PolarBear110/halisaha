import cv2
import numpy as np
import matplotlib.pyplot as plt
import ipywidgets as widgets
from IPython.display import display
from tqdm.auto import tqdm
import time

def create_heatmap(video_path, save_path_1, save_path_2=None):
    cap = cv2.VideoCapture(video_path)

    width = int(cap.get(cv2.CAP_PROP_FRAME_WIDTH))
    height = int(cap.get(cv2.CAP_PROP_FRAME_HEIGHT))
    heat_map = np.zeros((height, width), dtype=np.float32)

    ret, prev_frame = cap.read()
    prev_frame = cv2.cvtColor(prev_frame, cv2.COLOR_BGR2GRAY)

    frame_count = int(cap.get(cv2.CAP_PROP_FRAME_COUNT))
    tqdm_bar = tqdm(total=frame_count, desc="Isı haritası oluşturuluyor", leave=False)

    while True:
        ret, frame = cap.read()
        if not ret:
            break

        gray = cv2.cvtColor(frame, cv2.COLOR_BGR2GRAY)

        diff = cv2.absdiff(prev_frame, gray)

        heat_map += diff

        prev_frame = gray

        tqdm_bar.update(1)

    tqdm_bar.close()

    max_val = np.max(heat_map)
    threshold_high = np.percentile(heat_map, 99)
    threshold_low = np.percentile(heat_map, 50)

    heat_map_clipped = np.clip(heat_map, threshold_low, threshold_high)
    heat_map_normalized = (heat_map_clipped - threshold_low) / (threshold_high - threshold_low)

    plt.imshow(heat_map_normalized, cmap='Blues', vmin=0, vmax=1)
    plt.colorbar()

    plt.savefig(save_path_1)

    plt.show()

    cap.release()

    if save_path_2:
        create_heatmap(video_path, save_path_2)

def print_welcome_message():
    welcome_message = """

                                                                                               

                                                                          
    """
    for char in welcome_message:
        print(char, end='', flush=True)
        time.sleep(0.01)

print_welcome_message()

video_path_widget = widgets.Text(placeholder="Video dosyasının yolu")
save_path_1_widget = widgets.Text(placeholder="Isı haritasının kaydedileceği yolun ilk kısmı")
save_path_2_widget = widgets.Text(placeholder="Isı haritasının kaydedileceği yolun ikinci kısmı")

split_video_widget = widgets.RadioButtons(options=['E', 'H'], description='Videoyu ikiye bölmek istiyor musunuz?')

display(video_path_widget)
display(split_video_widget)
display(save_path_1_widget)
display(save_path_2_widget)

def on_button_clicked(b):
    video_path = video_path_widget.value
    split_video = split_video_widget.value
    save_path_1 = save_path_1_widget.value
    save_path_2 = save_path_2_widget.value
    
    if split_video == "E":
        create_heatmap(video_path, save_path_1, save_path_2)
    elif split_video == "H":
        create_heatmap(video_path, save_path_1)
    else:
        print("Geçersiz seçim! Lütfen 'E' veya 'H' girin.")

button = widgets.Button(description="Isı Haritası Oluştur")
display(button)

button.on_click(on_button_clicked)
