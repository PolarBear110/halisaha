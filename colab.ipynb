{
  "nbformat": 4,
  "nbformat_minor": 0,
  "metadata": {
    "colab": {
      "provenance": [],
      "mount_file_id": "1iVf5U3Q6tVWj5RKYT4gVODlp5GFalm36",
      "authorship_tag": "ABX9TyN9gO7k82N3U7/PbkRtFgdl",
      "include_colab_link": true
    },
    "kernelspec": {
      "name": "python3",
      "display_name": "Python 3"
    },
    "language_info": {
      "name": "python"
    },
    "widgets": {
      "application/vnd.jupyter.widget-state+json": {
        "ffd935a7fb164917aaec3f1d0aa5fb9e": {
          "model_module": "@jupyter-widgets/controls",
          "model_name": "TextModel",
          "model_module_version": "1.5.0",
          "state": {
            "_dom_classes": [],
            "_model_module": "@jupyter-widgets/controls",
            "_model_module_version": "1.5.0",
            "_model_name": "TextModel",
            "_view_count": null,
            "_view_module": "@jupyter-widgets/controls",
            "_view_module_version": "1.5.0",
            "_view_name": "TextView",
            "continuous_update": true,
            "description": "",
            "description_tooltip": null,
            "disabled": false,
            "layout": "IPY_MODEL_cdc6999f728f4e078c2d2e3dcf37f146",
            "placeholder": "Video dosyasının yolu",
            "style": "IPY_MODEL_c16d368e81cf4265b5c556a18bcaa42b",
            "value": ""
          }
        },
        "cdc6999f728f4e078c2d2e3dcf37f146": {
          "model_module": "@jupyter-widgets/base",
          "model_name": "LayoutModel",
          "model_module_version": "1.2.0",
          "state": {
            "_model_module": "@jupyter-widgets/base",
            "_model_module_version": "1.2.0",
            "_model_name": "LayoutModel",
            "_view_count": null,
            "_view_module": "@jupyter-widgets/base",
            "_view_module_version": "1.2.0",
            "_view_name": "LayoutView",
            "align_content": null,
            "align_items": null,
            "align_self": null,
            "border": null,
            "bottom": null,
            "display": null,
            "flex": null,
            "flex_flow": null,
            "grid_area": null,
            "grid_auto_columns": null,
            "grid_auto_flow": null,
            "grid_auto_rows": null,
            "grid_column": null,
            "grid_gap": null,
            "grid_row": null,
            "grid_template_areas": null,
            "grid_template_columns": null,
            "grid_template_rows": null,
            "height": null,
            "justify_content": null,
            "justify_items": null,
            "left": null,
            "margin": null,
            "max_height": null,
            "max_width": null,
            "min_height": null,
            "min_width": null,
            "object_fit": null,
            "object_position": null,
            "order": null,
            "overflow": null,
            "overflow_x": null,
            "overflow_y": null,
            "padding": null,
            "right": null,
            "top": null,
            "visibility": null,
            "width": null
          }
        },
        "c16d368e81cf4265b5c556a18bcaa42b": {
          "model_module": "@jupyter-widgets/controls",
          "model_name": "DescriptionStyleModel",
          "model_module_version": "1.5.0",
          "state": {
            "_model_module": "@jupyter-widgets/controls",
            "_model_module_version": "1.5.0",
            "_model_name": "DescriptionStyleModel",
            "_view_count": null,
            "_view_module": "@jupyter-widgets/base",
            "_view_module_version": "1.2.0",
            "_view_name": "StyleView",
            "description_width": ""
          }
        },
        "bde46b18f0834fd3ad42e40219b96561": {
          "model_module": "@jupyter-widgets/controls",
          "model_name": "RadioButtonsModel",
          "model_module_version": "1.5.0",
          "state": {
            "_dom_classes": [],
            "_model_module": "@jupyter-widgets/controls",
            "_model_module_version": "1.5.0",
            "_model_name": "RadioButtonsModel",
            "_options_labels": [
              "E",
              "H"
            ],
            "_view_count": null,
            "_view_module": "@jupyter-widgets/controls",
            "_view_module_version": "1.5.0",
            "_view_name": "RadioButtonsView",
            "description": "Videoyu ikiye bölmek istiyor musunuz?",
            "description_tooltip": null,
            "disabled": false,
            "index": 0,
            "layout": "IPY_MODEL_c3b05a6cf2dd47e783d6474a68c57297",
            "style": "IPY_MODEL_5426994f297d40b2b481c3ca9e223a42"
          }
        },
        "c3b05a6cf2dd47e783d6474a68c57297": {
          "model_module": "@jupyter-widgets/base",
          "model_name": "LayoutModel",
          "model_module_version": "1.2.0",
          "state": {
            "_model_module": "@jupyter-widgets/base",
            "_model_module_version": "1.2.0",
            "_model_name": "LayoutModel",
            "_view_count": null,
            "_view_module": "@jupyter-widgets/base",
            "_view_module_version": "1.2.0",
            "_view_name": "LayoutView",
            "align_content": null,
            "align_items": null,
            "align_self": null,
            "border": null,
            "bottom": null,
            "display": null,
            "flex": null,
            "flex_flow": null,
            "grid_area": null,
            "grid_auto_columns": null,
            "grid_auto_flow": null,
            "grid_auto_rows": null,
            "grid_column": null,
            "grid_gap": null,
            "grid_row": null,
            "grid_template_areas": null,
            "grid_template_columns": null,
            "grid_template_rows": null,
            "height": null,
            "justify_content": null,
            "justify_items": null,
            "left": null,
            "margin": null,
            "max_height": null,
            "max_width": null,
            "min_height": null,
            "min_width": null,
            "object_fit": null,
            "object_position": null,
            "order": null,
            "overflow": null,
            "overflow_x": null,
            "overflow_y": null,
            "padding": null,
            "right": null,
            "top": null,
            "visibility": null,
            "width": "555555555555555555555"
          }
        },
        "5426994f297d40b2b481c3ca9e223a42": {
          "model_module": "@jupyter-widgets/controls",
          "model_name": "DescriptionStyleModel",
          "model_module_version": "1.5.0",
          "state": {
            "_model_module": "@jupyter-widgets/controls",
            "_model_module_version": "1.5.0",
            "_model_name": "DescriptionStyleModel",
            "_view_count": null,
            "_view_module": "@jupyter-widgets/base",
            "_view_module_version": "1.2.0",
            "_view_name": "StyleView",
            "description_width": ""
          }
        },
        "49a0e23c100f4b74a9919a99b60f9c89": {
          "model_module": "@jupyter-widgets/controls",
          "model_name": "TextModel",
          "model_module_version": "1.5.0",
          "state": {
            "_dom_classes": [],
            "_model_module": "@jupyter-widgets/controls",
            "_model_module_version": "1.5.0",
            "_model_name": "TextModel",
            "_view_count": null,
            "_view_module": "@jupyter-widgets/controls",
            "_view_module_version": "1.5.0",
            "_view_name": "TextView",
            "continuous_update": true,
            "description": "",
            "description_tooltip": null,
            "disabled": false,
            "layout": "IPY_MODEL_4b0db41c11114c50b696bf9518be5ed7",
            "placeholder": "Isı haritasının kaydedileceği yolun ilk kısmı",
            "style": "IPY_MODEL_ab9a96e71d44438fb0f99211f02aaedc",
            "value": ""
          }
        },
        "4b0db41c11114c50b696bf9518be5ed7": {
          "model_module": "@jupyter-widgets/base",
          "model_name": "LayoutModel",
          "model_module_version": "1.2.0",
          "state": {
            "_model_module": "@jupyter-widgets/base",
            "_model_module_version": "1.2.0",
            "_model_name": "LayoutModel",
            "_view_count": null,
            "_view_module": "@jupyter-widgets/base",
            "_view_module_version": "1.2.0",
            "_view_name": "LayoutView",
            "align_content": null,
            "align_items": null,
            "align_self": null,
            "border": null,
            "bottom": null,
            "display": null,
            "flex": null,
            "flex_flow": null,
            "grid_area": null,
            "grid_auto_columns": null,
            "grid_auto_flow": null,
            "grid_auto_rows": null,
            "grid_column": null,
            "grid_gap": null,
            "grid_row": null,
            "grid_template_areas": null,
            "grid_template_columns": null,
            "grid_template_rows": null,
            "height": null,
            "justify_content": null,
            "justify_items": null,
            "left": null,
            "margin": null,
            "max_height": null,
            "max_width": null,
            "min_height": null,
            "min_width": null,
            "object_fit": null,
            "object_position": null,
            "order": null,
            "overflow": null,
            "overflow_x": null,
            "overflow_y": null,
            "padding": null,
            "right": null,
            "top": null,
            "visibility": null,
            "width": null
          }
        },
        "ab9a96e71d44438fb0f99211f02aaedc": {
          "model_module": "@jupyter-widgets/controls",
          "model_name": "DescriptionStyleModel",
          "model_module_version": "1.5.0",
          "state": {
            "_model_module": "@jupyter-widgets/controls",
            "_model_module_version": "1.5.0",
            "_model_name": "DescriptionStyleModel",
            "_view_count": null,
            "_view_module": "@jupyter-widgets/base",
            "_view_module_version": "1.2.0",
            "_view_name": "StyleView",
            "description_width": ""
          }
        },
        "8f59f50b4f8b4c6fbc85b90b78dc30a8": {
          "model_module": "@jupyter-widgets/controls",
          "model_name": "TextModel",
          "model_module_version": "1.5.0",
          "state": {
            "_dom_classes": [],
            "_model_module": "@jupyter-widgets/controls",
            "_model_module_version": "1.5.0",
            "_model_name": "TextModel",
            "_view_count": null,
            "_view_module": "@jupyter-widgets/controls",
            "_view_module_version": "1.5.0",
            "_view_name": "TextView",
            "continuous_update": true,
            "description": "",
            "description_tooltip": null,
            "disabled": false,
            "layout": "IPY_MODEL_da09eb36e3044462b68d57c066568a00",
            "placeholder": "Isı haritasının kaydedileceği yolun ikinci kısmı",
            "style": "IPY_MODEL_8a8c763e4a964e7b9d790686976eec9f",
            "value": ""
          }
        },
        "da09eb36e3044462b68d57c066568a00": {
          "model_module": "@jupyter-widgets/base",
          "model_name": "LayoutModel",
          "model_module_version": "1.2.0",
          "state": {
            "_model_module": "@jupyter-widgets/base",
            "_model_module_version": "1.2.0",
            "_model_name": "LayoutModel",
            "_view_count": null,
            "_view_module": "@jupyter-widgets/base",
            "_view_module_version": "1.2.0",
            "_view_name": "LayoutView",
            "align_content": null,
            "align_items": null,
            "align_self": null,
            "border": null,
            "bottom": null,
            "display": null,
            "flex": null,
            "flex_flow": null,
            "grid_area": null,
            "grid_auto_columns": null,
            "grid_auto_flow": null,
            "grid_auto_rows": null,
            "grid_column": null,
            "grid_gap": null,
            "grid_row": null,
            "grid_template_areas": null,
            "grid_template_columns": null,
            "grid_template_rows": null,
            "height": null,
            "justify_content": null,
            "justify_items": null,
            "left": null,
            "margin": null,
            "max_height": null,
            "max_width": null,
            "min_height": null,
            "min_width": null,
            "object_fit": null,
            "object_position": null,
            "order": null,
            "overflow": null,
            "overflow_x": null,
            "overflow_y": null,
            "padding": null,
            "right": null,
            "top": null,
            "visibility": null,
            "width": null
          }
        },
        "8a8c763e4a964e7b9d790686976eec9f": {
          "model_module": "@jupyter-widgets/controls",
          "model_name": "DescriptionStyleModel",
          "model_module_version": "1.5.0",
          "state": {
            "_model_module": "@jupyter-widgets/controls",
            "_model_module_version": "1.5.0",
            "_model_name": "DescriptionStyleModel",
            "_view_count": null,
            "_view_module": "@jupyter-widgets/base",
            "_view_module_version": "1.2.0",
            "_view_name": "StyleView",
            "description_width": ""
          }
        },
        "1b5c9c4f87be4e538e64b762d439e98c": {
          "model_module": "@jupyter-widgets/controls",
          "model_name": "ButtonModel",
          "model_module_version": "1.5.0",
          "state": {
            "_dom_classes": [],
            "_model_module": "@jupyter-widgets/controls",
            "_model_module_version": "1.5.0",
            "_model_name": "ButtonModel",
            "_view_count": null,
            "_view_module": "@jupyter-widgets/controls",
            "_view_module_version": "1.5.0",
            "_view_name": "ButtonView",
            "button_style": "",
            "description": "Isı Haritası Oluştur",
            "disabled": false,
            "icon": "",
            "layout": "IPY_MODEL_f6b29285a3b24b768758cb743ac8d874",
            "style": "IPY_MODEL_e12bf31a2ddc4036ba77791cfaf544fa",
            "tooltip": ""
          }
        },
        "f6b29285a3b24b768758cb743ac8d874": {
          "model_module": "@jupyter-widgets/base",
          "model_name": "LayoutModel",
          "model_module_version": "1.2.0",
          "state": {
            "_model_module": "@jupyter-widgets/base",
            "_model_module_version": "1.2.0",
            "_model_name": "LayoutModel",
            "_view_count": null,
            "_view_module": "@jupyter-widgets/base",
            "_view_module_version": "1.2.0",
            "_view_name": "LayoutView",
            "align_content": null,
            "align_items": null,
            "align_self": null,
            "border": null,
            "bottom": null,
            "display": null,
            "flex": null,
            "flex_flow": null,
            "grid_area": null,
            "grid_auto_columns": null,
            "grid_auto_flow": null,
            "grid_auto_rows": null,
            "grid_column": null,
            "grid_gap": null,
            "grid_row": null,
            "grid_template_areas": null,
            "grid_template_columns": null,
            "grid_template_rows": null,
            "height": null,
            "justify_content": null,
            "justify_items": null,
            "left": null,
            "margin": null,
            "max_height": null,
            "max_width": null,
            "min_height": null,
            "min_width": null,
            "object_fit": null,
            "object_position": null,
            "order": null,
            "overflow": null,
            "overflow_x": null,
            "overflow_y": null,
            "padding": null,
            "right": null,
            "top": null,
            "visibility": null,
            "width": null
          }
        },
        "e12bf31a2ddc4036ba77791cfaf544fa": {
          "model_module": "@jupyter-widgets/controls",
          "model_name": "ButtonStyleModel",
          "model_module_version": "1.5.0",
          "state": {
            "_model_module": "@jupyter-widgets/controls",
            "_model_module_version": "1.5.0",
            "_model_name": "ButtonStyleModel",
            "_view_count": null,
            "_view_module": "@jupyter-widgets/base",
            "_view_module_version": "1.2.0",
            "_view_name": "StyleView",
            "button_color": null,
            "font_weight": ""
          }
        }
      }
    }
  },
  "cells": [
    {
      "cell_type": "markdown",
      "metadata": {
        "id": "view-in-github",
        "colab_type": "text"
      },
      "source": [
        "<a href=\"https://colab.research.google.com/github/PolarBear110/halisaha/blob/main/colab.ipynb\" target=\"_parent\"><img src=\"https://colab.research.google.com/assets/colab-badge.svg\" alt=\"Open In Colab\"/></a>"
      ]
    },
    {
      "cell_type": "markdown",
      "source": [
        "# ***Şekerli Pencere Tarafından Oluşturuldu***"
      ],
      "metadata": {
        "id": "-_M31uDIlfyd"
      }
    },
    {
      "cell_type": "code",
      "source": [
        "# @title Halı Saha Hareket Isı Haritası Oluşturucu (Free Colab Supported)\n",
        "# @markdown Soldaki ufak yuvarlaktan bu hücreyi çalıştırdığınızda, sizden halı saha videonuzun yolunu, ısı haritanızın kaydedilmesini istediğiniz yol ve devre arasında takımların yarısaha değiştirip değiştirmediğini soran birkaç kutucuk çıkacak.Bu kutucukları kendinize uygun doldurduktan sonra ısı haritası oluştur butonuna bastığınızdan bir süre sonra ısı haritanız otomatik olarak kaydedilip size gösterelicektir.\n",
        "\n",
        "import cv2\n",
        "import numpy as np\n",
        "import matplotlib.pyplot as plt\n",
        "import ipywidgets as widgets\n",
        "from IPython.display import display\n",
        "from tqdm.auto import tqdm\n",
        "import time\n",
        "\n",
        "def create_heatmap(video_path, save_path_1, save_path_2=None):\n",
        "    cap = cv2.VideoCapture(video_path)\n",
        "\n",
        "    width = int(cap.get(cv2.CAP_PROP_FRAME_WIDTH))\n",
        "    height = int(cap.get(cv2.CAP_PROP_FRAME_HEIGHT))\n",
        "    heat_map_1 = np.zeros((height, width), dtype=np.float32)\n",
        "    heat_map_2 = np.zeros((height, width), dtype=np.float32)\n",
        "\n",
        "    ret, prev_frame = cap.read()\n",
        "    prev_frame = cv2.cvtColor(prev_frame, cv2.COLOR_BGR2GRAY)\n",
        "\n",
        "    frame_count = int(cap.get(cv2.CAP_PROP_FRAME_COUNT))\n",
        "    tqdm_bar = tqdm(total=frame_count, desc=\"Isı haritası oluşturuluyor\", leave=False)\n",
        "\n",
        "    frame_number = 0\n",
        "    total_frames = int(cap.get(cv2.CAP_PROP_FRAME_COUNT))\n",
        "    half_frames = total_frames // 2\n",
        "\n",
        "    while True:\n",
        "        ret, frame = cap.read()\n",
        "        if not ret:\n",
        "            break\n",
        "\n",
        "        gray = cv2.cvtColor(frame, cv2.COLOR_BGR2GRAY)\n",
        "\n",
        "        diff = cv2.absdiff(prev_frame, gray)\n",
        "\n",
        "        if frame_number < half_frames:\n",
        "            heat_map_1 += diff\n",
        "        else:\n",
        "            heat_map_2 += diff\n",
        "\n",
        "        prev_frame = gray\n",
        "        frame_number += 1\n",
        "\n",
        "        tqdm_bar.update(1)\n",
        "\n",
        "    tqdm_bar.close()\n",
        "\n",
        "    max_val_1 = np.max(heat_map_1)\n",
        "    max_val_2 = np.max(heat_map_2)\n",
        "\n",
        "    threshold_high_1 = np.percentile(heat_map_1, 99)\n",
        "    threshold_low_1 = np.percentile(heat_map_1, 50)\n",
        "\n",
        "    threshold_high_2 = np.percentile(heat_map_2, 99)\n",
        "    threshold_low_2 = np.percentile(heat_map_2, 50)\n",
        "\n",
        "    heat_map_clipped_1 = np.clip(heat_map_1, threshold_low_1, threshold_high_1)\n",
        "    heat_map_normalized_1 = (heat_map_clipped_1 - threshold_low_1) / (threshold_high_1 - threshold_low_1)\n",
        "\n",
        "    heat_map_clipped_2 = np.clip(heat_map_2, threshold_low_2, threshold_high_2)\n",
        "    heat_map_normalized_2 = (heat_map_clipped_2 - threshold_low_2) / (threshold_high_2 - threshold_low_2)\n",
        "\n",
        "    plt.imshow(heat_map_normalized_1, cmap='Blues', vmin=0, vmax=1)\n",
        "    plt.colorbar()\n",
        "    plt.savefig(save_path_1)\n",
        "    plt.show()\n",
        "\n",
        "    if save_path_2:\n",
        "        plt.imshow(heat_map_normalized_2, cmap='Blues', vmin=0, vmax=1)\n",
        "        plt.colorbar()\n",
        "        plt.savefig(save_path_2)\n",
        "        plt.show()\n",
        "\n",
        "    cap.release()\n",
        "\n",
        "def print_welcome_message():\n",
        "    welcome_message = \"\"\"\n",
        "    \"\"\"\n",
        "    for char in welcome_message:\n",
        "        print(char, end='', flush=True)\n",
        "        time.sleep(0.01)\n",
        "\n",
        "print_welcome_message()\n",
        "\n",
        "video_path_widget = widgets.Text(placeholder=\"Video dosyasının yolu\")\n",
        "save_path_1_widget = widgets.Text(placeholder=\"Isı haritasının kaydedileceği yolun ilk kısmı\")\n",
        "save_path_2_widget = widgets.Text(placeholder=\"Isı haritasının kaydedileceği yolun ikinci kısmı\")\n",
        "\n",
        "split_video_widget = widgets.RadioButtons(\n",
        "    options=['E', 'H'],\n",
        "    description='Videoyu ikiye bölmek istiyor musunuz?',\n",
        "    layout={'width': \"max-content\"}\n",
        ")\n",
        "\n",
        "display(video_path_widget)\n",
        "display(split_video_widget)\n",
        "display(save_path_1_widget)\n",
        "display(save_path_2_widget)\n",
        "\n",
        "def on_button_clicked(b):\n",
        "    video_path = video_path_widget.value\n",
        "    split_video = split_video_widget.value\n",
        "    save_path_1 = save_path_1_widget.value\n",
        "    save_path_2 = save_path_2_widget.value\n",
        "\n",
        "    if split_video == \"E\":\n",
        "        create_heatmap(video_path, save_path_1, save_path_2)\n",
        "    elif split_video == \"H\":\n",
        "        create_heatmap(video_path, save_path_1)\n",
        "    else:\n",
        "        print(\"Geçersiz seçim! Lütfen 'E' veya 'H' girin.\")\n",
        "\n",
        "button = widgets.Button(description=\"Isı Haritası Oluştur\")\n",
        "display(button)\n",
        "\n",
        "button.on_click(on_button_clicked)\n"
      ],
      "metadata": {
        "colab": {
          "base_uri": "https://localhost:8080/",
          "height": 238,
          "referenced_widgets": [
            "ffd935a7fb164917aaec3f1d0aa5fb9e",
            "cdc6999f728f4e078c2d2e3dcf37f146",
            "c16d368e81cf4265b5c556a18bcaa42b",
            "bde46b18f0834fd3ad42e40219b96561",
            "c3b05a6cf2dd47e783d6474a68c57297",
            "5426994f297d40b2b481c3ca9e223a42",
            "49a0e23c100f4b74a9919a99b60f9c89",
            "4b0db41c11114c50b696bf9518be5ed7",
            "ab9a96e71d44438fb0f99211f02aaedc",
            "8f59f50b4f8b4c6fbc85b90b78dc30a8",
            "da09eb36e3044462b68d57c066568a00",
            "8a8c763e4a964e7b9d790686976eec9f",
            "1b5c9c4f87be4e538e64b762d439e98c",
            "f6b29285a3b24b768758cb743ac8d874",
            "e12bf31a2ddc4036ba77791cfaf544fa"
          ]
        },
        "id": "wU1qvhgCb_Hl",
        "outputId": "10bc035e-d1be-4440-a192-6d1659d40210",
        "cellView": "form"
      },
      "execution_count": 4,
      "outputs": [
        {
          "output_type": "stream",
          "name": "stdout",
          "text": [
            "                                                                  \n",
            "    "
          ]
        },
        {
          "output_type": "display_data",
          "data": {
            "text/plain": [
              "Text(value='', placeholder='Video dosyasının yolu')"
            ],
            "application/vnd.jupyter.widget-view+json": {
              "version_major": 2,
              "version_minor": 0,
              "model_id": "ffd935a7fb164917aaec3f1d0aa5fb9e"
            }
          },
          "metadata": {}
        },
        {
          "output_type": "display_data",
          "data": {
            "text/plain": [
              "RadioButtons(description='Videoyu ikiye bölmek istiyor musunuz?', layout=Layout(width='555555555555555555555')…"
            ],
            "application/vnd.jupyter.widget-view+json": {
              "version_major": 2,
              "version_minor": 0,
              "model_id": "bde46b18f0834fd3ad42e40219b96561"
            }
          },
          "metadata": {}
        },
        {
          "output_type": "display_data",
          "data": {
            "text/plain": [
              "Text(value='', placeholder='Isı haritasının kaydedileceği yolun ilk kısmı')"
            ],
            "application/vnd.jupyter.widget-view+json": {
              "version_major": 2,
              "version_minor": 0,
              "model_id": "49a0e23c100f4b74a9919a99b60f9c89"
            }
          },
          "metadata": {}
        },
        {
          "output_type": "display_data",
          "data": {
            "text/plain": [
              "Text(value='', placeholder='Isı haritasının kaydedileceği yolun ikinci kısmı')"
            ],
            "application/vnd.jupyter.widget-view+json": {
              "version_major": 2,
              "version_minor": 0,
              "model_id": "8f59f50b4f8b4c6fbc85b90b78dc30a8"
            }
          },
          "metadata": {}
        },
        {
          "output_type": "display_data",
          "data": {
            "text/plain": [
              "Button(description='Isı Haritası Oluştur', style=ButtonStyle())"
            ],
            "application/vnd.jupyter.widget-view+json": {
              "version_major": 2,
              "version_minor": 0,
              "model_id": "1b5c9c4f87be4e538e64b762d439e98c"
            }
          },
          "metadata": {}
        }
      ]
    }
  ]
}